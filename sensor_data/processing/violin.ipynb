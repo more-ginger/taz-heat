{
 "cells": [
  {
   "cell_type": "code",
   "execution_count": null,
   "id": "983edeba",
   "metadata": {},
   "outputs": [],
   "source": [
    "import pandas as pd\n",
    "\n",
    "df_org = pd.read_csv(\"../rawData/all_data_08_08.csv\")\n",
    "df_org"
   ]
  },
  {
   "cell_type": "code",
   "execution_count": null,
   "id": "66e5dddf",
   "metadata": {},
   "outputs": [],
   "source": [
    "from datetime import datetime\n",
    "\n",
    "\n",
    "# manual parsing of time\n",
    "def parse_time(s):\n",
    "    try:\n",
    "        return datetime.strptime(s, \"%Y-%m-%d %H:%M:%S.%f\")\n",
    "    except ValueError:\n",
    "        return datetime.strptime(s, \"%Y-%m-%d %H:%M:%S\")"
   ]
  },
  {
   "cell_type": "code",
   "execution_count": null,
   "id": "1895acf5",
   "metadata": {},
   "outputs": [],
   "source": [
    "def resample_data(fileName):\n",
    "    # filter to needed data\n",
    "    person = df_org[df_org.file == fileName].copy()\n",
    "    person = person.drop([\"Unnamed: 0\", \"timestamp\", \"file\"], axis=1)\n",
    "\n",
    "    person[\"datetime\"] = person[\"datetime\"].apply(parse_time)\n",
    "\n",
    "    # resampte to hourly data\n",
    "    resample_person = person.resample(\"h\", on=\"datetime\").mean()\n",
    "\n",
    "    # interpolate missing values\n",
    "    resample_person_fill = resample_person.interpolate()\n",
    "\n",
    "    # path = \"processedData/all_resampled_\" + fileName\n",
    "    # resample_person_fill.to_csv(path)\n",
    "    return resample_person_fill"
   ]
  },
  {
   "cell_type": "code",
   "execution_count": null,
   "id": "fad212a9",
   "metadata": {},
   "outputs": [],
   "source": [
    "persons = df_org.file.unique()\n",
    "persons"
   ]
  },
  {
   "cell_type": "code",
   "execution_count": null,
   "id": "b7f20368",
   "metadata": {},
   "outputs": [],
   "source": [
    "resample_data(\"Annapurna.csv\")"
   ]
  },
  {
   "cell_type": "code",
   "execution_count": null,
   "id": "d7341fbd",
   "metadata": {},
   "outputs": [],
   "source": [
    "all_data = []\n",
    "for p in persons:\n",
    "    resampled = resample_data(p)\n",
    "    resampled[\"person\"] = p\n",
    "    all_data.append(resampled)\n",
    "\n",
    "combined_data = pd.concat(all_data, axis=0)"
   ]
  },
  {
   "cell_type": "code",
   "execution_count": null,
   "id": "54e2eff2",
   "metadata": {},
   "outputs": [],
   "source": [
    "combined_data.to_csv(\"./processedData/all_resampled.csv\")"
   ]
  },
  {
   "cell_type": "code",
   "execution_count": null,
   "id": "d7a621e1",
   "metadata": {},
   "outputs": [],
   "source": [
    "combined_data"
   ]
  }
 ],
 "metadata": {
  "kernelspec": {
   "display_name": "Python 3",
   "language": "python",
   "name": "python3"
  },
  "language_info": {
   "codemirror_mode": {
    "name": "ipython",
    "version": 3
   },
   "file_extension": ".py",
   "mimetype": "text/x-python",
   "name": "python",
   "nbconvert_exporter": "python",
   "pygments_lexer": "ipython3",
   "version": "3.12.2"
  }
 },
 "nbformat": 4,
 "nbformat_minor": 5
}
