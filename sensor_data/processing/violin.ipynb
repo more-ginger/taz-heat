{
 "cells": [
  {
   "cell_type": "code",
   "execution_count": null,
   "id": "983edeba",
   "metadata": {},
   "outputs": [],
   "source": [
    "import pandas as pd\n",
    "\n",
    "df_org = pd.read_csv(\"../rawData/all_data_08_18.csv\")\n",
    "df_org"
   ]
  },
  {
   "cell_type": "code",
   "execution_count": null,
   "id": "66e5dddf",
   "metadata": {},
   "outputs": [],
   "source": [
    "from datetime import datetime\n",
    "\n",
    "\n",
    "# manual parsing of time\n",
    "def parse_time(s):\n",
    "    try:\n",
    "        return datetime.strptime(s, \"%Y-%m-%d %H:%M:%S.%f\")\n",
    "    except ValueError:\n",
    "        try:\n",
    "            return datetime.strptime(s, \"%Y-%m-%d %H:%M:%S.%f\")\n",
    "        except ValueError:\n",
    "            return datetime.strptime(s, \"%Y-%m-%d\")  # midnight fallback"
   ]
  },
  {
   "cell_type": "code",
   "execution_count": null,
   "id": "1895acf5",
   "metadata": {},
   "outputs": [],
   "source": [
    "def resample_data(fileName):\n",
    "    # filter to needed data\n",
    "    person = df_org[df_org.file == fileName].copy()\n",
    "    person = person.drop([\"Unnamed: 0\", \"timestamp\", \"file\"], axis=1)\n",
    "\n",
    "    person[\"datetime\"] = pd.to_datetime(person[\"datetime\"], errors=\"coerce\")\n",
    "    # person[\"datetime\"] = person[\"datetime\"].apply(parse_time)\n",
    "\n",
    "    # resampte to hourly data\n",
    "    resample_person = person.resample(\"h\", on=\"datetime\").mean()\n",
    "\n",
    "    # interpolate missing values\n",
    "    resample_person_fill = resample_person.interpolate()\n",
    "\n",
    "    # path = \"processedData/all_resampled_\" + fileName\n",
    "    # resample_person_fill.to_csv(path)\n",
    "    return resample_person_fill"
   ]
  },
  {
   "cell_type": "code",
   "execution_count": null,
   "id": "fad212a9",
   "metadata": {},
   "outputs": [],
   "source": [
    "persons = df_org.file.unique()\n",
    "persons"
   ]
  },
  {
   "cell_type": "code",
   "execution_count": null,
   "id": "b7f20368",
   "metadata": {},
   "outputs": [],
   "source": [
    "resample_data(\"Annapurna.csv\")"
   ]
  },
  {
   "cell_type": "code",
   "execution_count": null,
   "id": "d7341fbd",
   "metadata": {},
   "outputs": [],
   "source": [
    "all_data = []\n",
    "for p in persons:\n",
    "    print(p)\n",
    "    resampled = resample_data(p)\n",
    "    resampled[\"person\"] = p\n",
    "    all_data.append(resampled)\n",
    "\n",
    "combined_data = pd.concat(all_data, axis=0)"
   ]
  },
  {
   "cell_type": "code",
   "execution_count": null,
   "id": "54e2eff2",
   "metadata": {},
   "outputs": [],
   "source": [
    "combined_data.to_csv(\"./processedData/all_resampled_08_18.csv\")"
   ]
  },
  {
   "cell_type": "code",
   "execution_count": null,
   "id": "d7a621e1",
   "metadata": {},
   "outputs": [],
   "source": [
    "combined_data"
   ]
  },
  {
   "cell_type": "code",
   "execution_count": null,
   "id": "4d28d61b",
   "metadata": {},
   "outputs": [],
   "source": [
    "# combine humidity + temperature\n",
    "# https://unidata.github.io/MetPy/latest/api/generated/metpy.calc.heat_index.html\n",
    "\n",
    "from metpy.calc import heat_index\n",
    "from metpy.units import units\n",
    "\n",
    "\n",
    "def safe_heat_index(temp_c, rh):\n",
    "    # calc heat temp\n",
    "    hi = heat_index(temp_c * units.degC, rh * units.percent).to(\"degC\")\n",
    "    # return heat index, or normal temp if temp below 26.9 degrees\n",
    "    if hasattr(hi.magnitude, \"mask\"):\n",
    "        if hi.magnitude.mask:  # masked → invalid\n",
    "            return temp_c\n",
    "        else:  # valid → get value\n",
    "            return hi.magnitude.item()\n",
    "    else:\n",
    "        # Normal numpy scalar\n",
    "        return hi.magnitude.item()\n",
    "\n",
    "\n",
    "df = combined_data.copy()\n",
    "# df[\"heat_index\"] = df.apply(lambda row: heat_index(row[\"temperature\"] * units.degC, row[\"humidity\"] * units.percent).to(\"degC\").magnitude,axis=1)\n",
    "# df[\"heat_index_f\"] = heat_index(df.temperature.values * units.degC, df.humidity.values * units.percent).to(units.degC)\n",
    "df[\"heat_index_c\"] = df.apply(lambda row: safe_heat_index(row[\"temperature\"], row[\"humidity\"]), axis=1)\n",
    "# df[\"heat_index_c\"]  = df[\"heat_index\"].magnitude\n",
    "df.dtypes"
   ]
  },
  {
   "cell_type": "code",
   "execution_count": null,
   "id": "92147394",
   "metadata": {},
   "outputs": [],
   "source": [
    "df"
   ]
  },
  {
   "cell_type": "code",
   "execution_count": null,
   "id": "62fb62ed",
   "metadata": {},
   "outputs": [],
   "source": [
    "df.to_csv(\"./processedData/all_resampled_08_08_heatindex.csv\")"
   ]
  }
 ],
 "metadata": {
  "kernelspec": {
   "display_name": "Python 3",
   "language": "python",
   "name": "python3"
  },
  "language_info": {
   "codemirror_mode": {
    "name": "ipython",
    "version": 3
   },
   "file_extension": ".py",
   "mimetype": "text/x-python",
   "name": "python",
   "nbconvert_exporter": "python",
   "pygments_lexer": "ipython3",
   "version": "3.12.2"
  }
 },
 "nbformat": 4,
 "nbformat_minor": 5
}
